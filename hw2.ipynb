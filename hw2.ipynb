{
 "cells": [
  {
   "cell_type": "markdown",
   "id": "9d9b04ab",
   "metadata": {},
   "source": [
    "### Домашняя работа 2\n",
    "Зенина Алёна БКЛ-201"
   ]
  },
  {
   "cell_type": "code",
   "execution_count": 1,
   "id": "1b09635a",
   "metadata": {},
   "outputs": [],
   "source": [
    "import zipfile\n",
    "import wget\n",
    "import gensim\n",
    "import numpy as np\n",
    "from numpy import dot\n",
    "from numpy. linalg import norm\n",
    "import matplotlib.pyplot as plt\n",
    "import scipy\n",
    "import scipy.cluster.hierarchy as hcluster\n",
    "from sklearn.cluster import KMeans"
   ]
  },
  {
   "cell_type": "code",
   "execution_count": 2,
   "id": "b52f47b1",
   "metadata": {},
   "outputs": [
    {
     "name": "stdout",
     "output_type": "stream",
     "text": [
      "100% [..................................................] 638171816 / 638171816"
     ]
    }
   ],
   "source": [
    "model_url = 'http://vectors.nlpl.eu/repository/20/220.zip'\n",
    "m = wget.download(model_url)\n",
    "model_file = model_url.split('/')[-1]\n",
    "with zipfile.ZipFile(model_file, 'r') as archive:\n",
    "    stream = archive.open('model.bin')\n",
    "    model = gensim.models.KeyedVectors.load_word2vec_format(stream, binary=True)"
   ]
  },
  {
   "cell_type": "code",
   "execution_count": 3,
   "id": "023d276e",
   "metadata": {},
   "outputs": [],
   "source": [
    "with open(\"HW2_igrat'.txt\", \"r\", encoding=\"utf-8\") as f:\n",
    "    data = f.read().split('\\n')[:-1]"
   ]
  },
  {
   "cell_type": "code",
   "execution_count": 4,
   "id": "18eddc0c",
   "metadata": {},
   "outputs": [],
   "source": [
    "def bag_of_words(string):\n",
    "    bag = []\n",
    "    for chunk in data:\n",
    "        x = chunk.split('\\t')\n",
    "        y = x[0].split('_')\n",
    "        for word in y:\n",
    "            if word not in bag:\n",
    "                bag.append(word)\n",
    "    bag[0] += '_VERB'\n",
    "    for i in range(1, len(bag)):\n",
    "        bag[i] += '_NOUN'\n",
    "    return bag"
   ]
  },
  {
   "cell_type": "code",
   "execution_count": 5,
   "id": "ad2c5201",
   "metadata": {
    "scrolled": true
   },
   "outputs": [
    {
     "name": "stdout",
     "output_type": "stream",
     "text": [
      "['играть_VERB', 'роль_NOUN', 'музыка_NOUN', 'ребенок_NOUN', 'оркестр_NOUN', 'актер_NOUN', 'человек_NOUN', 'время_NOUN', 'карта_NOUN', 'музыкант_NOUN', 'солнце_NOUN', 'дитя_NOUN', 'спектакль_NOUN', 'комедия_NOUN', 'жизнь_NOUN', 'игра_NOUN', 'артист_NOUN', 'мальчик_NOUN', 'свадьба_NOUN', 'женщина_NOUN', 'день_NOUN', 'песня_NOUN', 'девочка_NOUN', 'вечер_NOUN', 'пьеса_NOUN', 'вальс_NOUN', 'команда_NOUN', 'улыбка_NOUN', 'ребята_NOUN', 'актриса_NOUN', 'ветер_NOUN', 'мальчишка_NOUN', 'шахматы_NOUN', 'гамлет_NOUN', 'возможность_NOUN', 'раз_NOUN', 'песнь_NOUN', 'год_NOUN', 'румянец_NOUN', 'рука_NOUN', 'отец_NOUN', 'россия_NOUN', 'ночь_NOUN', 'желание_NOUN', 'футбол_NOUN', 'сцена_NOUN', 'судьба_NOUN', 'мужчина_NOUN', 'театр_NOUN', 'мать_NOUN', 'девушка_NOUN', 'свет_NOUN', 'джаз_NOUN', 'ребятишки_NOUN', 'скрипка_NOUN', 'деньги_NOUN', 'гармонь_NOUN', 'шопен_NOUN', 'прятки_NOUN', 'лицо_NOUN', 'луч_NOUN', 'гость_NOUN', 'король_NOUN', 'мама_NOUN', 'старик_NOUN', 'трубач_NOUN', 'моцарт_NOUN', 'час_NOUN', 'умение_NOUN', 'теннис_NOUN', 'кровь_NOUN', 'любовь_NOUN', 'концерт_NOUN', 'гамма_NOUN', 'группа_NOUN', 'орган_NOUN', 'глаз_NOUN', 'сила_NOUN', 'партия_NOUN', 'жена_NOUN', 'звезда_NOUN', 'дама_NOUN', 'труппа_NOUN', 'спартак_NOUN', 'фактор_NOUN', 'брат_NOUN', 'рыба_NOUN', 'шарманка_NOUN', 'студент_NOUN', 'марш_NOUN', 'сердце_NOUN', 'дом_NOUN', 'мастер_NOUN', 'война_NOUN', 'игрушка_NOUN', 'танец_NOUN', 'матч_NOUN', 'кукла_NOUN', 'значение_NOUN', 'дочь_NOUN', 'бог_NOUN', 'трагедия_NOUN', 'старуха_NOUN', 'дело_NOUN', 'молчанка_NOUN', 'вода_NOUN', 'процесс_NOUN', 'патефон_NOUN', 'утро_NOUN', 'слово_NOUN', 'мольер_NOUN', 'солдат_NOUN', 'собака_NOUN']\n"
     ]
    }
   ],
   "source": [
    "words = bag_of_words(data)\n",
    "print(words)"
   ]
  },
  {
   "cell_type": "markdown",
   "id": "05e860da",
   "metadata": {},
   "source": [
    "Слово \"карта\" встречается два раза, но так как модель к омонимии не чувствительная, объединяю"
   ]
  },
  {
   "cell_type": "code",
   "execution_count": 6,
   "id": "5d8a9a54",
   "metadata": {},
   "outputs": [],
   "source": [
    "vectores = []\n",
    "for word in words:\n",
    "    if word in model:\n",
    "        vectores.append(model[word])\n",
    "    else:\n",
    "        print('Увы, слова \"%s\" нет в модели!' % word)"
   ]
  },
  {
   "cell_type": "code",
   "execution_count": 7,
   "id": "b9858448",
   "metadata": {},
   "outputs": [],
   "source": [
    "add = []\n",
    "for i in range(1, len(vectores)):\n",
    "    add.append(vectores[0] + vectores[i])"
   ]
  },
  {
   "cell_type": "code",
   "execution_count": 8,
   "id": "b4a8a402",
   "metadata": {},
   "outputs": [],
   "source": [
    "def get_word(array):\n",
    "    for i in range(len(add)):\n",
    "        if np.array_equal(add[i], array):\n",
    "            return 'играть_' + words[i + 1][:-5]"
   ]
  },
  {
   "cell_type": "markdown",
   "id": "53e9cbcd",
   "metadata": {},
   "source": [
    "### Кластеризация методом иерархической кластеризации"
   ]
  },
  {
   "cell_type": "code",
   "execution_count": 9,
   "id": "47d09de9",
   "metadata": {},
   "outputs": [
    {
     "name": "stdout",
     "output_type": "stream",
     "text": [
      "(112, 300)\n"
     ]
    }
   ],
   "source": [
    "X = np.array(add)\n",
    "print(X.shape)"
   ]
  },
  {
   "cell_type": "code",
   "execution_count": 10,
   "id": "58fafd9f",
   "metadata": {},
   "outputs": [],
   "source": [
    "def real_clusters(array):\n",
    "    res = {}\n",
    "    for number in set(array):   \n",
    "        count = []\n",
    "        for i in range(len(array)):\n",
    "            if array[i] == number:\n",
    "                       count.append(add[i])\n",
    "        if len(count) > 2:\n",
    "            res[number] = count\n",
    "    return res            "
   ]
  },
  {
   "cell_type": "markdown",
   "id": "845675d0",
   "metadata": {},
   "source": [
    "Оптимальное значение для t (в котором максимально количество кластеров, содержащие больше 2 элементов) находится где-то в пределах от 0.5 (меньше 0 кластеров) до 1 (больше значение, меньше кластеров). с помощью функции выясняю:"
   ]
  },
  {
   "cell_type": "code",
   "execution_count": 11,
   "id": "9d49ec42",
   "metadata": {},
   "outputs": [
    {
     "name": "stdout",
     "output_type": "stream",
     "text": [
      "Оптимальное значение:  0.71 \n",
      "Максимальное количество кластеров, размером больше 2:  7\n"
     ]
    }
   ],
   "source": [
    "Z = hcluster.linkage(X)\n",
    "opt_i = 0\n",
    "max_num = 0\n",
    "for i in range(50, 101, 1):\n",
    "    clusters = hcluster.fcluster(Z, i/100)\n",
    "    if len(real_clusters(clusters)) > max_num:\n",
    "        max_num = len(real_clusters(clusters))\n",
    "        opt_i = i\n",
    "        \n",
    "print('Оптимальное значение: ', opt_i/100, '\\nМаксимальное количество кластеров, размером больше 2: ', max_num)"
   ]
  },
  {
   "cell_type": "code",
   "execution_count": 12,
   "id": "ddd26c14",
   "metadata": {},
   "outputs": [
    {
     "name": "stdout",
     "output_type": "stream",
     "text": [
      "Общее количество кластеров: 79 [75 21 23 36  4 59 62 68 24  2  9  5  5 54 77  4 12 42  7  3 31 12  3  5\n",
      " 17 74  6 13  4 57 13 29  9 69 58 22 79  6 50 10  9  3 48 49 33 38  7 46\n",
      " 10 14  2 21 13 16 61  9  9  9 60  2 32 71 10 11  9  9 41 52 35 45 27 65\n",
      " 20 64 70 43 73 72 10 55 25 47  9  1 18 40  9 39 44 28 63 53 78  8 34 76\n",
      "  8 67 15 30 19 11 66  9 51  1  9  3 37  9 56 26]\n"
     ]
    }
   ],
   "source": [
    "clusters = hcluster.fcluster(Z, 0.71)\n",
    "print('Общее количество кластеров: %d' % len(set(clusters)), clusters)"
   ]
  },
  {
   "cell_type": "code",
   "execution_count": 13,
   "id": "0102d089",
   "metadata": {},
   "outputs": [],
   "source": [
    "def cos_sim(a, b):\n",
    "    return dot(a, b)/(norm(a)*norm(b))"
   ]
  },
  {
   "cell_type": "code",
   "execution_count": 14,
   "id": "c2fceef2",
   "metadata": {},
   "outputs": [],
   "source": [
    "def center(xclusters):\n",
    "    res = {}\n",
    "    for key in xclusters.keys():\n",
    "        center = np.mean(xclusters[key], axis = 0)\n",
    "        count = {}\n",
    "        for vector in xclusters[key]:\n",
    "            count[cos_sim(vector, center)] = get_word(vector)\n",
    "        print(key, '\\nСловосочетания:', count[sorted(count.keys())[-1]], count[sorted(count.keys())[-2]], count[sorted(count.keys())[-3]])         "
   ]
  },
  {
   "cell_type": "code",
   "execution_count": 15,
   "id": "ca75f60f",
   "metadata": {},
   "outputs": [
    {
     "name": "stdout",
     "output_type": "stream",
     "text": [
      "2 \n",
      "Словосочетания: играть_луч играть_свет играть_солнце\n",
      "3 \n",
      "Словосочетания: играть_утро играть_вечер играть_ночь\n",
      "4 \n",
      "Словосочетания: играть_актер играть_актриса играть_артист\n",
      "5 \n",
      "Словосочетания: играть_пьеса играть_спектакль играть_комедия\n",
      "9 \n",
      "Словосочетания: играть_шопен играть_молчанка играть_мольер\n",
      "10 \n",
      "Словосочетания: играть_мать играть_отец играть_жена\n",
      "13 \n",
      "Словосочетания: играть_мальчишка играть_ребята играть_ребятишки\n"
     ]
    }
   ],
   "source": [
    "center(real_clusters(clusters))"
   ]
  },
  {
   "cell_type": "markdown",
   "id": "32e4c9d8",
   "metadata": {},
   "source": [
    "Поля вполне однородные, но их не очень много, немного смешиваются 5 и 9, где играть в молчанку и играть мольера имеют разные значения.\n",
    "### Кластеризация методом К-средних\n",
    "Аналогично ищем оптимальное значения для данного алгоритма"
   ]
  },
  {
   "cell_type": "code",
   "execution_count": 16,
   "id": "b79d608b",
   "metadata": {},
   "outputs": [
    {
     "name": "stderr",
     "output_type": "stream",
     "text": [
      "C:\\Users\\listv\\anaconda3\\lib\\site-packages\\sklearn\\cluster\\_kmeans.py:881: UserWarning: KMeans is known to have a memory leak on Windows with MKL, when there are less chunks than available threads. You can avoid it by setting the environment variable OMP_NUM_THREADS=1.\n",
      "  warnings.warn(\n"
     ]
    },
    {
     "name": "stdout",
     "output_type": "stream",
     "text": [
      "Оптимальное значение:  39 \n",
      "Максимальное количество кластеров, размером больше 2:  16\n"
     ]
    }
   ],
   "source": [
    "opt_i = 0\n",
    "max_num = 0\n",
    "for i in range(1, 50):\n",
    "    kmeans = KMeans(n_clusters=i).fit(X)\n",
    "    clusters = kmeans.labels_\n",
    "    if len(real_clusters(clusters)) > max_num:\n",
    "        max_num = len(real_clusters(clusters))\n",
    "        opt_i = i\n",
    "        \n",
    "print('Оптимальное значение: ', opt_i, '\\nМаксимальное количество кластеров, размером больше 2: ', max_num)"
   ]
  },
  {
   "cell_type": "code",
   "execution_count": 18,
   "id": "c1d8bc73",
   "metadata": {},
   "outputs": [
    {
     "name": "stdout",
     "output_type": "stream",
     "text": [
      "1 \n",
      "Словосочетания: играть_вальс играть_танец играть_песнь\n",
      "2 \n",
      "Словосочетания: играть_старик играть_старуха играть_дама\n",
      "3 \n",
      "Словосочетания: играть_актер играть_артист играть_актриса\n",
      "6 \n",
      "Словосочетания: играть_теннис играть_футбол играть_шахматы\n",
      "9 \n",
      "Словосочетания: играть_гамлет играть_пьеса играть_спектакль\n",
      "10 \n",
      "Словосочетания: играть_луч играть_свет играть_солнце\n",
      "11 \n",
      "Словосочетания: играть_утро играть_вечер играть_ночь\n",
      "12 \n",
      "Словосочетания: играть_мать играть_отец играть_жена\n",
      "13 \n",
      "Словосочетания: играть_шопен играть_молчанка играть_мольер\n",
      "14 \n",
      "Словосочетания: играть_фактор играть_процесс играть_значение\n",
      "16 \n",
      "Словосочетания: играть_музыка играть_джаз играть_песня\n",
      "19 \n",
      "Словосочетания: играть_любовь играть_сердце играть_жизнь\n",
      "20 \n",
      "Словосочетания: играть_женщина играть_мужчина играть_человек\n",
      "29 \n",
      "Словосочетания: играть_девочка играть_мальчик играть_мальчишка\n",
      "33 \n",
      "Словосочетания: играть_улыбка играть_глаз играть_румянец\n"
     ]
    }
   ],
   "source": [
    "kmeans = KMeans(n_clusters=39).fit(X)\n",
    "center(real_clusters(kmeans.labels_))"
   ]
  },
  {
   "cell_type": "markdown",
   "id": "462ec5b9",
   "metadata": {},
   "source": [
    "Так как полей получилось больше, результаты получились более ровные, выделились кластеры с переносными значениями (14, 33), но появились дублирующие друг друга по смыслу, как группы 20 и 12"
   ]
  }
 ],
 "metadata": {
  "kernelspec": {
   "display_name": "Python 3",
   "language": "python",
   "name": "python3"
  },
  "language_info": {
   "codemirror_mode": {
    "name": "ipython",
    "version": 3
   },
   "file_extension": ".py",
   "mimetype": "text/x-python",
   "name": "python",
   "nbconvert_exporter": "python",
   "pygments_lexer": "ipython3",
   "version": "3.8.8"
  }
 },
 "nbformat": 4,
 "nbformat_minor": 5
}
