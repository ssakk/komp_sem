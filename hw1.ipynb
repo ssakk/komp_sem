{
 "cells": [
  {
   "cell_type": "markdown",
   "id": "d92d4e3c",
   "metadata": {},
   "source": [
    "### Домашняя работа 1 \n",
    "Зенина Алёна БКЛ-201"
   ]
  },
  {
   "cell_type": "code",
   "execution_count": 1,
   "id": "1a13edb7",
   "metadata": {},
   "outputs": [
    {
     "name": "stderr",
     "output_type": "stream",
     "text": [
      "[nltk_data] Downloading package wordnet to\n",
      "[nltk_data]     C:\\Users\\listv\\AppData\\Roaming\\nltk_data...\n",
      "[nltk_data]   Package wordnet is already up-to-date!\n",
      "[nltk_data] Downloading package omw to\n",
      "[nltk_data]     C:\\Users\\listv\\AppData\\Roaming\\nltk_data...\n",
      "[nltk_data]   Package omw is already up-to-date!\n"
     ]
    },
    {
     "data": {
      "text/plain": [
       "True"
      ]
     },
     "execution_count": 1,
     "metadata": {},
     "output_type": "execute_result"
    }
   ],
   "source": [
    "import nltk\n",
    "import networkx as nx\n",
    "import numpy as np\n",
    "from nltk.corpus import wordnet as wn\n",
    "from collections import Counter\n",
    "import matplotlib.pyplot as plt \n",
    "from networkx.algorithms import community\n",
    "nltk.download('wordnet')\n",
    "nltk.download('omw')"
   ]
  },
  {
   "cell_type": "markdown",
   "id": "51ef5b0f",
   "metadata": {},
   "source": [
    "## Сбор синсетов\n",
    "Беру синсет \"бросать\""
   ]
  },
  {
   "cell_type": "code",
   "execution_count": 2,
   "id": "337a99d0",
   "metadata": {},
   "outputs": [],
   "source": [
    "search_exemplar = wn.synset('throw.v.01')"
   ]
  },
  {
   "cell_type": "code",
   "execution_count": 3,
   "id": "fb701282",
   "metadata": {},
   "outputs": [
    {
     "name": "stdout",
     "output_type": "stream",
     "text": [
      "{'eng': ['throw'], 'als': ['hedhje'], 'arb': ['أقام_حفلة', 'إلقاء', 'ألقى', 'بنى_سدا', 'خسر_المباراة_متعمدا', 'رجم', 'رمى', 'سجن', 'طرح', 'طرح_سؤلا', 'غزل', 'فك_التعشيق', 'قذف', 'نظم_حفلة', 'نفث_دخانا', 'هجر'], 'bul': ['метна', 'мятам', 'хвърля', 'хвърлям'], 'cat': ['llançar'], 'cmn': ['扔', '投', '投掷', '抛', '掷'], 'dan': ['kaste'], 'ell': ['εκτοξεύω', 'ρίπτω'], 'eus': ['bulkatu', 'bultzatu', 'egotzi', 'eragin', 'jaurti', 'jaurtiki', 'sakatu'], 'fas': [], 'fin': ['lennättää'], 'fra': ['jeter'], 'glg': [], 'heb': [], 'hrv': ['bacati', 'baciti', 'hitati', 'hititi', 'izbaciti', 'izbacivati'], 'ind': ['melancarkan', 'melanting', 'melantingkan', 'melejang', 'melempar', 'melemparkan', 'melontar', 'melontari', 'melontarkan', 'membuang', 'mencampak', 'mencampakkan', 'mencapak', 'mengeban', 'mengempaskan', 'menghembalangkan'], 'ita': ['buttare', 'gettare', 'lanciare'], 'jpn': ['ほうる', '投げる', '投擲+する', '抛る', '放る', '放り投げる'], 'nld': ['flikkeren', 'gooien', 'jenzen', 'kegelen', 'keilen', 'kieperen', 'knikkeren', 'kogelen', 'kukelen', 'kwakken', 'lazeren', 'mikken', 'plompen', 'werpen', 'zwiepen'], 'nno': ['kaste'], 'nob': ['kaste'], 'pol': [], 'por': ['atirar', 'lançar'], 'qcn': ['扔', '拽'], 'slv': ['vreči', 'zabrisati', 'zagnati', 'zalučati'], 'spa': ['lanzar'], 'swe': ['kasta'], 'tha': ['ปา', 'ขว้าง', 'เขวี้ยง'], 'zsm': ['melancarkan', 'melanting', 'melantingkan', 'melejang', 'melempar', 'melemparkan', 'melontar', 'melontari', 'melontarkan', 'membaling', 'membuang', 'mencampak', 'mencampakkan', 'mencapak', 'menghembalangkan']}\n"
     ]
    }
   ],
   "source": [
    "lemmas = {}\n",
    "for lang in wn.langs():\n",
    "    lemmas[lang] = search_exemplar.lemma_names(lang=lang)\n",
    "print(lemmas)"
   ]
  },
  {
   "cell_type": "code",
   "execution_count": 4,
   "id": "c9e73d23",
   "metadata": {},
   "outputs": [],
   "source": [
    "synsets = [] \n",
    "for lang in wn.langs():\n",
    "    for lemma in lemmas[lang]:\n",
    "        for syn in wn.synsets(lemma, lang=lang):\n",
    "            synsets.append(syn)"
   ]
  },
  {
   "cell_type": "code",
   "execution_count": 5,
   "id": "6eec3f6e",
   "metadata": {},
   "outputs": [],
   "source": [
    "count_synsets = dict((x, synsets.count(x)) for x in set(synsets) if synsets.count(x) > 3)"
   ]
  },
  {
   "cell_type": "code",
   "execution_count": 6,
   "id": "cdcfbabf",
   "metadata": {},
   "outputs": [
    {
     "data": {
      "text/plain": [
       "45"
      ]
     },
     "execution_count": 6,
     "metadata": {},
     "output_type": "execute_result"
    }
   ],
   "source": [
    "len(count_synsets)"
   ]
  },
  {
   "cell_type": "markdown",
   "id": "03fc43a8",
   "metadata": {},
   "source": [
    "Как раз подходит!\n",
    "## Создание графа"
   ]
  },
  {
   "cell_type": "code",
   "execution_count": 7,
   "id": "05ec2fd4",
   "metadata": {},
   "outputs": [],
   "source": [
    "counted_synsets = list(count_synsets.keys())"
   ]
  },
  {
   "cell_type": "code",
   "execution_count": 8,
   "id": "6ed9c3bf",
   "metadata": {},
   "outputs": [],
   "source": [
    "def get_lemmas(synx):\n",
    "    lemmas = []\n",
    "    for lang in wn.langs():\n",
    "            for  lemma in synx.lemma_names(lang=lang):\n",
    "                lemmas.append(lemma)\n",
    "    return lemmas"
   ]
  },
  {
   "cell_type": "code",
   "execution_count": 9,
   "id": "4c210498",
   "metadata": {},
   "outputs": [],
   "source": [
    "def comp(x, y):\n",
    "    res = 0\n",
    "    for i in x:\n",
    "        for j in y:\n",
    "            if i == j:\n",
    "                res += 1\n",
    "    return res"
   ]
  },
  {
   "cell_type": "code",
   "execution_count": 10,
   "id": "d6331944",
   "metadata": {},
   "outputs": [],
   "source": [
    "THROW = nx.Graph()"
   ]
  },
  {
   "cell_type": "code",
   "execution_count": 11,
   "id": "a5007e91",
   "metadata": {},
   "outputs": [],
   "source": [
    "done = []\n",
    "for syn1 in counted_synsets:\n",
    "    lemmas1 = get_lemmas(syn1)\n",
    "    for syn2 in counted_synsets:\n",
    "        if syn1 != syn2 and syn2 not in done:\n",
    "            lemmas2 = get_lemmas(syn2)\n",
    "            weight = comp(lemmas1, lemmas2)\n",
    "            if weight != 0:\n",
    "                THROW.add_edge(syn1.name(), syn2.name(), weight=weight)\n",
    "    done.append(syn1)"
   ]
  },
  {
   "cell_type": "markdown",
   "id": "44a7ce2e",
   "metadata": {},
   "source": [
    "Сколько получилось компонент?"
   ]
  },
  {
   "cell_type": "code",
   "execution_count": 12,
   "id": "deb3612c",
   "metadata": {},
   "outputs": [
    {
     "data": {
      "text/plain": [
       "1"
      ]
     },
     "execution_count": 12,
     "metadata": {},
     "output_type": "execute_result"
    }
   ],
   "source": [
    "components = nx.components.connected_components(THROW)\n",
    "component_lengths = Counter([len(i) for i in components])\n",
    "component_lengths.most_common()[0][1]"
   ]
  },
  {
   "cell_type": "markdown",
   "id": "93d05c43",
   "metadata": {},
   "source": [
    "Какая плотность у графа?"
   ]
  },
  {
   "cell_type": "code",
   "execution_count": 13,
   "id": "7adbe507",
   "metadata": {},
   "outputs": [
    {
     "name": "stdout",
     "output_type": "stream",
     "text": [
      "0.6747474747474748\n"
     ]
    }
   ],
   "source": [
    "print(nx.density(THROW))"
   ]
  },
  {
   "cell_type": "markdown",
   "id": "4268f7d7",
   "metadata": {},
   "source": [
    "Степени и центральность"
   ]
  },
  {
   "cell_type": "code",
   "execution_count": 14,
   "id": "12642254",
   "metadata": {},
   "outputs": [
    {
     "name": "stdout",
     "output_type": "stream",
     "text": [
      "throw.v.01\n",
      "fling.v.01\n",
      "hurl.v.01\n",
      "chuck.v.01\n",
      "discard.v.01\n",
      "shed.v.01\n",
      "throw.v.06\n",
      "flip.v.06\n",
      "flip.v.01\n",
      "project.v.10\n",
      "lunge.v.01\n",
      "throw.v.04\n",
      "hurl.v.03\n",
      "give.v.07\n",
      "sling.v.01\n",
      "throw.v.13\n",
      "bewilder.v.02\n",
      "trash.v.01\n",
      "hold.v.03\n",
      "confuse.v.02\n",
      "cast.v.02\n",
      "convulse.v.03\n",
      "throw.v.02\n",
      "chuck.v.02\n",
      "exhaust.v.05\n",
      "project.v.11\n",
      "toss.v.06\n",
      "eject.v.01\n",
      "crash.v.10\n",
      "roll.v.12\n",
      "throw.v.14\n",
      "slam.v.04\n",
      "fling.v.02\n",
      "dismiss.v.01\n",
      "cast.v.07\n",
      "heave.v.02\n",
      "shoot.v.08\n",
      "flip.v.05\n",
      "expel.v.01\n",
      "dump.v.01\n",
      "propel.v.01\n",
      "thrust.v.01\n",
      "launch.v.02\n",
      "discontinue.v.01\n",
      "loft.v.02\n"
     ]
    }
   ],
   "source": [
    "deg = nx.degree_centrality(THROW)\n",
    "for nodeid in sorted(deg, key=deg.get, reverse=True):\n",
    "    print(nodeid)"
   ]
  },
  {
   "cell_type": "code",
   "execution_count": 15,
   "id": "b6731fcc",
   "metadata": {},
   "outputs": [
    {
     "name": "stdout",
     "output_type": "stream",
     "text": [
      "throw.v.01\n",
      "lunge.v.01\n",
      "fling.v.01\n",
      "hurl.v.01\n",
      "chuck.v.01\n",
      "shed.v.01\n",
      "discard.v.01\n",
      "flip.v.06\n",
      "throw.v.06\n",
      "eject.v.01\n",
      "exhaust.v.05\n",
      "flip.v.01\n",
      "throw.v.04\n",
      "sling.v.01\n",
      "roll.v.12\n",
      "throw.v.13\n",
      "project.v.10\n",
      "dismiss.v.01\n",
      "crash.v.10\n",
      "thrust.v.01\n",
      "fling.v.02\n",
      "hurl.v.03\n",
      "convulse.v.03\n",
      "trash.v.01\n",
      "propel.v.01\n",
      "give.v.07\n",
      "project.v.11\n",
      "slam.v.04\n",
      "expel.v.01\n",
      "cast.v.02\n",
      "chuck.v.02\n",
      "bewilder.v.02\n",
      "hold.v.03\n",
      "confuse.v.02\n",
      "throw.v.02\n",
      "cast.v.07\n",
      "heave.v.02\n",
      "toss.v.06\n",
      "flip.v.05\n",
      "throw.v.14\n",
      "shoot.v.08\n",
      "launch.v.02\n",
      "dump.v.01\n",
      "discontinue.v.01\n",
      "loft.v.02\n"
     ]
    }
   ],
   "source": [
    "b = nx.betweenness_centrality(THROW)\n",
    "for nodeid in sorted(b, key=b.get, reverse=True):\n",
    "    print(nodeid)"
   ]
  },
  {
   "cell_type": "code",
   "execution_count": 16,
   "id": "55f665c8",
   "metadata": {},
   "outputs": [
    {
     "name": "stdout",
     "output_type": "stream",
     "text": [
      "throw.v.01\n",
      "fling.v.01\n",
      "hurl.v.01\n",
      "chuck.v.01\n",
      "discard.v.01\n",
      "shed.v.01\n",
      "throw.v.06\n",
      "flip.v.06\n",
      "flip.v.01\n",
      "project.v.10\n",
      "lunge.v.01\n",
      "throw.v.04\n",
      "hurl.v.03\n",
      "give.v.07\n",
      "sling.v.01\n",
      "throw.v.13\n",
      "bewilder.v.02\n",
      "trash.v.01\n",
      "hold.v.03\n",
      "confuse.v.02\n",
      "cast.v.02\n",
      "convulse.v.03\n",
      "throw.v.02\n",
      "chuck.v.02\n",
      "exhaust.v.05\n",
      "project.v.11\n",
      "toss.v.06\n",
      "eject.v.01\n",
      "crash.v.10\n",
      "roll.v.12\n",
      "throw.v.14\n",
      "slam.v.04\n",
      "fling.v.02\n",
      "dismiss.v.01\n",
      "cast.v.07\n",
      "heave.v.02\n",
      "shoot.v.08\n",
      "flip.v.05\n",
      "expel.v.01\n",
      "dump.v.01\n",
      "propel.v.01\n",
      "thrust.v.01\n",
      "launch.v.02\n",
      "discontinue.v.01\n",
      "loft.v.02\n"
     ]
    }
   ],
   "source": [
    "b = nx.closeness_centrality(THROW)\n",
    "for nodeid in sorted(b, key=b.get, reverse=True):\n",
    "    print(nodeid)"
   ]
  },
  {
   "cell_type": "code",
   "execution_count": 17,
   "id": "2ab6a6da",
   "metadata": {},
   "outputs": [
    {
     "name": "stdout",
     "output_type": "stream",
     "text": [
      "throw.v.01\n",
      "hurl.v.01\n",
      "fling.v.01\n",
      "chuck.v.01\n",
      "discard.v.01\n",
      "shed.v.01\n",
      "throw.v.06\n",
      "flip.v.06\n",
      "project.v.10\n",
      "throw.v.04\n",
      "give.v.07\n",
      "hurl.v.03\n",
      "throw.v.13\n",
      "flip.v.01\n",
      "sling.v.01\n",
      "bewilder.v.02\n",
      "hold.v.03\n",
      "confuse.v.02\n",
      "lunge.v.01\n",
      "trash.v.01\n",
      "throw.v.02\n",
      "cast.v.02\n",
      "convulse.v.03\n",
      "chuck.v.02\n",
      "toss.v.06\n",
      "project.v.11\n",
      "throw.v.14\n",
      "slam.v.04\n",
      "fling.v.02\n",
      "roll.v.12\n",
      "crash.v.10\n",
      "exhaust.v.05\n",
      "cast.v.07\n",
      "eject.v.01\n",
      "dismiss.v.01\n",
      "heave.v.02\n",
      "shoot.v.08\n",
      "flip.v.05\n",
      "expel.v.01\n",
      "dump.v.01\n",
      "propel.v.01\n",
      "launch.v.02\n",
      "thrust.v.01\n",
      "discontinue.v.01\n",
      "loft.v.02\n"
     ]
    }
   ],
   "source": [
    "b = nx.eigenvector_centrality(THROW)\n",
    "for nodeid in sorted(b, key=b.get, reverse=True):\n",
    "    print(nodeid)"
   ]
  },
  {
   "cell_type": "markdown",
   "id": "13dd3d77",
   "metadata": {},
   "source": [
    "Разбиение на сообщества"
   ]
  },
  {
   "cell_type": "code",
   "execution_count": 18,
   "id": "3922eb3a",
   "metadata": {},
   "outputs": [
    {
     "name": "stdout",
     "output_type": "stream",
     "text": [
      "top level communities: [['bewilder.v.02', 'cast.v.02', 'cast.v.07', 'chuck.v.01', 'chuck.v.02', 'confuse.v.02', 'convulse.v.03', 'crash.v.10', 'discard.v.01', 'discontinue.v.01', 'dismiss.v.01', 'dump.v.01', 'eject.v.01', 'exhaust.v.05', 'expel.v.01', 'fling.v.01', 'fling.v.02', 'flip.v.01', 'flip.v.05', 'flip.v.06', 'give.v.07', 'heave.v.02', 'hold.v.03', 'hurl.v.01', 'hurl.v.03', 'launch.v.02', 'lunge.v.01', 'project.v.10', 'project.v.11', 'propel.v.01', 'roll.v.12', 'shed.v.01', 'shoot.v.08', 'slam.v.04', 'sling.v.01', 'throw.v.01', 'throw.v.02', 'throw.v.04', 'throw.v.06', 'throw.v.13', 'throw.v.14', 'thrust.v.01', 'toss.v.06', 'trash.v.01'], ['loft.v.02']]\n",
      "next level communities: [['bewilder.v.02', 'cast.v.02', 'cast.v.07', 'chuck.v.01', 'chuck.v.02', 'confuse.v.02', 'convulse.v.03', 'crash.v.10', 'discard.v.01', 'dismiss.v.01', 'dump.v.01', 'eject.v.01', 'exhaust.v.05', 'expel.v.01', 'fling.v.01', 'fling.v.02', 'flip.v.01', 'flip.v.05', 'flip.v.06', 'give.v.07', 'heave.v.02', 'hold.v.03', 'hurl.v.01', 'hurl.v.03', 'launch.v.02', 'lunge.v.01', 'project.v.10', 'project.v.11', 'propel.v.01', 'roll.v.12', 'shed.v.01', 'shoot.v.08', 'slam.v.04', 'sling.v.01', 'throw.v.01', 'throw.v.02', 'throw.v.04', 'throw.v.06', 'throw.v.13', 'throw.v.14', 'thrust.v.01', 'toss.v.06', 'trash.v.01'], ['discontinue.v.01'], ['loft.v.02']]\n"
     ]
    }
   ],
   "source": [
    "communities_generator = community.girvan_newman(THROW)\n",
    "top_level_communities = next(communities_generator)\n",
    "next_level_communities = next(communities_generator)\n",
    "print(\"top level communities:\", sorted(map(sorted, top_level_communities)))\n",
    "print(\"next level communities:\", sorted(map(sorted, next_level_communities)))"
   ]
  },
  {
   "cell_type": "code",
   "execution_count": 19,
   "id": "c9e93372",
   "metadata": {},
   "outputs": [
    {
     "data": {
      "text/plain": [
       "[frozenset({'bewilder.v.02',\n",
       "            'cast.v.02',\n",
       "            'cast.v.07',\n",
       "            'chuck.v.01',\n",
       "            'chuck.v.02',\n",
       "            'confuse.v.02',\n",
       "            'convulse.v.03',\n",
       "            'crash.v.10',\n",
       "            'discard.v.01',\n",
       "            'discontinue.v.01',\n",
       "            'dismiss.v.01',\n",
       "            'dump.v.01',\n",
       "            'eject.v.01',\n",
       "            'exhaust.v.05',\n",
       "            'expel.v.01',\n",
       "            'fling.v.01',\n",
       "            'fling.v.02',\n",
       "            'flip.v.01',\n",
       "            'flip.v.05',\n",
       "            'flip.v.06',\n",
       "            'give.v.07',\n",
       "            'heave.v.02',\n",
       "            'hold.v.03',\n",
       "            'hurl.v.01',\n",
       "            'hurl.v.03',\n",
       "            'launch.v.02',\n",
       "            'loft.v.02',\n",
       "            'lunge.v.01',\n",
       "            'project.v.10',\n",
       "            'project.v.11',\n",
       "            'propel.v.01',\n",
       "            'roll.v.12',\n",
       "            'shed.v.01',\n",
       "            'shoot.v.08',\n",
       "            'slam.v.04',\n",
       "            'sling.v.01',\n",
       "            'throw.v.01',\n",
       "            'throw.v.02',\n",
       "            'throw.v.04',\n",
       "            'throw.v.06',\n",
       "            'throw.v.13',\n",
       "            'throw.v.14',\n",
       "            'thrust.v.01',\n",
       "            'toss.v.06',\n",
       "            'trash.v.01'})]"
      ]
     },
     "execution_count": 19,
     "metadata": {},
     "output_type": "execute_result"
    }
   ],
   "source": [
    "communities_generator_2 = community.greedy_modularity_communities(THROW)\n",
    "communities_generator_2"
   ]
  },
  {
   "cell_type": "markdown",
   "id": "be36b8ab",
   "metadata": {},
   "source": [
    "## Новый граф"
   ]
  },
  {
   "cell_type": "code",
   "execution_count": 20,
   "id": "a70ac630",
   "metadata": {},
   "outputs": [],
   "source": [
    "THROW1 = nx.Graph()"
   ]
  },
  {
   "cell_type": "code",
   "execution_count": 21,
   "id": "77425e02",
   "metadata": {},
   "outputs": [],
   "source": [
    "done = []\n",
    "for syn1 in counted_synsets:\n",
    "    lemmas1 = get_lemmas(syn1)\n",
    "    for syn2 in counted_synsets:\n",
    "        if syn1 != syn2 and syn2 not in done:\n",
    "            lemmas2 = get_lemmas(syn2)\n",
    "            weight = comp(lemmas1, lemmas2)\n",
    "            if weight > 4:\n",
    "                THROW1.add_edge(syn1.name(), syn2.name(), weight=weight)\n",
    "    done.append(syn1)"
   ]
  },
  {
   "cell_type": "markdown",
   "id": "41ed72f6",
   "metadata": {},
   "source": [
    "Сколько получилось компонент?"
   ]
  },
  {
   "cell_type": "code",
   "execution_count": 22,
   "id": "130fdc05",
   "metadata": {},
   "outputs": [
    {
     "data": {
      "text/plain": [
       "1"
      ]
     },
     "execution_count": 22,
     "metadata": {},
     "output_type": "execute_result"
    }
   ],
   "source": [
    "components = nx.components.connected_components(THROW1)\n",
    "component_lengths = Counter([len(i) for i in components])\n",
    "component_lengths.most_common()[0][1]"
   ]
  },
  {
   "cell_type": "markdown",
   "id": "85984982",
   "metadata": {},
   "source": [
    "Какая плотность у графа?"
   ]
  },
  {
   "cell_type": "code",
   "execution_count": 23,
   "id": "02b5c840",
   "metadata": {},
   "outputs": [
    {
     "name": "stdout",
     "output_type": "stream",
     "text": [
      "0.4696969696969697\n"
     ]
    }
   ],
   "source": [
    "print(nx.density(THROW1))"
   ]
  },
  {
   "cell_type": "markdown",
   "id": "c247adf3",
   "metadata": {},
   "source": [
    "Степени и центральность"
   ]
  },
  {
   "cell_type": "code",
   "execution_count": 24,
   "id": "3a659f5d",
   "metadata": {},
   "outputs": [
    {
     "name": "stdout",
     "output_type": "stream",
     "text": [
      "throw.v.01\n",
      "discard.v.01\n",
      "shed.v.01\n",
      "chuck.v.01\n",
      "hurl.v.01\n",
      "fling.v.01\n",
      "flip.v.01\n",
      "flip.v.06\n",
      "project.v.10\n",
      "throw.v.04\n",
      "throw.v.13\n",
      "hold.v.03\n",
      "give.v.07\n",
      "throw.v.06\n",
      "lunge.v.01\n",
      "hurl.v.03\n",
      "confuse.v.02\n",
      "bewilder.v.02\n",
      "convulse.v.03\n",
      "throw.v.02\n",
      "sling.v.01\n",
      "trash.v.01\n",
      "project.v.11\n",
      "toss.v.06\n",
      "throw.v.14\n",
      "chuck.v.02\n",
      "fling.v.02\n",
      "cast.v.02\n",
      "crash.v.10\n",
      "dismiss.v.01\n",
      "slam.v.04\n",
      "roll.v.12\n",
      "exhaust.v.05\n",
      "eject.v.01\n",
      "heave.v.02\n",
      "flip.v.05\n",
      "shoot.v.08\n",
      "cast.v.07\n",
      "expel.v.01\n",
      "launch.v.02\n",
      "propel.v.01\n",
      "thrust.v.01\n",
      "dump.v.01\n",
      "discontinue.v.01\n",
      "loft.v.02\n"
     ]
    }
   ],
   "source": [
    "deg = nx.degree_centrality(THROW1)\n",
    "for nodeid in sorted(deg, key=deg.get, reverse=True):\n",
    "    print(nodeid)"
   ]
  },
  {
   "cell_type": "code",
   "execution_count": 25,
   "id": "55e455e7",
   "metadata": {},
   "outputs": [
    {
     "name": "stdout",
     "output_type": "stream",
     "text": [
      "lunge.v.01\n",
      "throw.v.01\n",
      "discard.v.01\n",
      "shed.v.01\n",
      "propel.v.01\n",
      "chuck.v.01\n",
      "dismiss.v.01\n",
      "flip.v.01\n",
      "throw.v.04\n",
      "hurl.v.01\n",
      "fling.v.01\n",
      "exhaust.v.05\n",
      "flip.v.06\n",
      "project.v.10\n",
      "throw.v.06\n",
      "hold.v.03\n",
      "trash.v.01\n",
      "project.v.11\n",
      "give.v.07\n",
      "throw.v.13\n",
      "eject.v.01\n",
      "hurl.v.03\n",
      "cast.v.02\n",
      "confuse.v.02\n",
      "roll.v.12\n",
      "thrust.v.01\n",
      "bewilder.v.02\n",
      "cast.v.07\n",
      "sling.v.01\n",
      "heave.v.02\n",
      "flip.v.05\n",
      "fling.v.02\n",
      "crash.v.10\n",
      "convulse.v.03\n",
      "throw.v.02\n",
      "shoot.v.08\n",
      "slam.v.04\n",
      "toss.v.06\n",
      "throw.v.14\n",
      "expel.v.01\n",
      "launch.v.02\n",
      "chuck.v.02\n",
      "discontinue.v.01\n",
      "loft.v.02\n",
      "dump.v.01\n"
     ]
    }
   ],
   "source": [
    "b = nx.betweenness_centrality(THROW1)\n",
    "for nodeid in sorted(b, key=b.get, reverse=True):\n",
    "    print(nodeid)"
   ]
  },
  {
   "cell_type": "code",
   "execution_count": 26,
   "id": "a44b37c8",
   "metadata": {},
   "outputs": [
    {
     "name": "stdout",
     "output_type": "stream",
     "text": [
      "throw.v.01\n",
      "discard.v.01\n",
      "shed.v.01\n",
      "chuck.v.01\n",
      "hurl.v.01\n",
      "flip.v.01\n",
      "fling.v.01\n",
      "flip.v.06\n",
      "project.v.10\n",
      "throw.v.04\n",
      "throw.v.06\n",
      "lunge.v.01\n",
      "throw.v.13\n",
      "hold.v.03\n",
      "give.v.07\n",
      "hurl.v.03\n",
      "confuse.v.02\n",
      "bewilder.v.02\n",
      "trash.v.01\n",
      "convulse.v.03\n",
      "throw.v.02\n",
      "sling.v.01\n",
      "project.v.11\n",
      "toss.v.06\n",
      "throw.v.14\n",
      "chuck.v.02\n",
      "fling.v.02\n",
      "cast.v.02\n",
      "crash.v.10\n",
      "dismiss.v.01\n",
      "slam.v.04\n",
      "roll.v.12\n",
      "exhaust.v.05\n",
      "eject.v.01\n",
      "cast.v.07\n",
      "heave.v.02\n",
      "flip.v.05\n",
      "shoot.v.08\n",
      "expel.v.01\n",
      "launch.v.02\n",
      "dump.v.01\n",
      "thrust.v.01\n",
      "propel.v.01\n",
      "discontinue.v.01\n",
      "loft.v.02\n"
     ]
    }
   ],
   "source": [
    "b = nx.closeness_centrality(THROW1)\n",
    "for nodeid in sorted(b, key=b.get, reverse=True):\n",
    "    print(nodeid)"
   ]
  },
  {
   "cell_type": "code",
   "execution_count": 27,
   "id": "793213b2",
   "metadata": {},
   "outputs": [
    {
     "name": "stdout",
     "output_type": "stream",
     "text": [
      "throw.v.01\n",
      "hurl.v.01\n",
      "fling.v.01\n",
      "chuck.v.01\n",
      "discard.v.01\n",
      "shed.v.01\n",
      "throw.v.06\n",
      "flip.v.06\n",
      "project.v.10\n",
      "throw.v.04\n",
      "give.v.07\n",
      "hurl.v.03\n",
      "throw.v.13\n",
      "flip.v.01\n",
      "sling.v.01\n",
      "bewilder.v.02\n",
      "hold.v.03\n",
      "confuse.v.02\n",
      "lunge.v.01\n",
      "trash.v.01\n",
      "throw.v.02\n",
      "cast.v.02\n",
      "convulse.v.03\n",
      "chuck.v.02\n",
      "toss.v.06\n",
      "project.v.11\n",
      "throw.v.14\n",
      "slam.v.04\n",
      "fling.v.02\n",
      "roll.v.12\n",
      "crash.v.10\n",
      "exhaust.v.05\n",
      "cast.v.07\n",
      "eject.v.01\n",
      "dismiss.v.01\n",
      "heave.v.02\n",
      "shoot.v.08\n",
      "flip.v.05\n",
      "expel.v.01\n",
      "dump.v.01\n",
      "propel.v.01\n",
      "launch.v.02\n",
      "thrust.v.01\n",
      "discontinue.v.01\n",
      "loft.v.02\n"
     ]
    }
   ],
   "source": [
    "b = nx.eigenvector_centrality(THROW)\n",
    "for nodeid in sorted(b, key=b.get, reverse=True):\n",
    "    print(nodeid)"
   ]
  },
  {
   "cell_type": "markdown",
   "id": "9beb7f30",
   "metadata": {},
   "source": [
    "Разбиение на сообщества"
   ]
  },
  {
   "cell_type": "code",
   "execution_count": 28,
   "id": "44dd2dbd",
   "metadata": {},
   "outputs": [
    {
     "name": "stdout",
     "output_type": "stream",
     "text": [
      "top level communities: [['bewilder.v.02', 'cast.v.02', 'cast.v.07', 'chuck.v.01', 'chuck.v.02', 'confuse.v.02', 'convulse.v.03', 'crash.v.10', 'discard.v.01', 'discontinue.v.01', 'dismiss.v.01', 'dump.v.01', 'eject.v.01', 'exhaust.v.05', 'expel.v.01', 'fling.v.01', 'fling.v.02', 'flip.v.01', 'flip.v.05', 'flip.v.06', 'give.v.07', 'heave.v.02', 'hold.v.03', 'hurl.v.01', 'hurl.v.03', 'launch.v.02', 'lunge.v.01', 'project.v.10', 'project.v.11', 'roll.v.12', 'shed.v.01', 'shoot.v.08', 'slam.v.04', 'sling.v.01', 'throw.v.01', 'throw.v.02', 'throw.v.04', 'throw.v.06', 'throw.v.13', 'throw.v.14', 'thrust.v.01', 'toss.v.06', 'trash.v.01'], ['loft.v.02', 'propel.v.01']]\n",
      "next level communities: [['bewilder.v.02', 'cast.v.02', 'cast.v.07', 'chuck.v.01', 'chuck.v.02', 'confuse.v.02', 'convulse.v.03', 'crash.v.10', 'discard.v.01', 'dismiss.v.01', 'dump.v.01', 'eject.v.01', 'exhaust.v.05', 'expel.v.01', 'fling.v.01', 'fling.v.02', 'flip.v.01', 'flip.v.05', 'flip.v.06', 'give.v.07', 'heave.v.02', 'hold.v.03', 'hurl.v.01', 'hurl.v.03', 'launch.v.02', 'lunge.v.01', 'project.v.10', 'project.v.11', 'roll.v.12', 'shed.v.01', 'shoot.v.08', 'slam.v.04', 'sling.v.01', 'throw.v.01', 'throw.v.02', 'throw.v.04', 'throw.v.06', 'throw.v.13', 'throw.v.14', 'thrust.v.01', 'toss.v.06', 'trash.v.01'], ['discontinue.v.01'], ['loft.v.02', 'propel.v.01']]\n"
     ]
    }
   ],
   "source": [
    "communities_generator = community.girvan_newman(THROW1)\n",
    "top_level_communities = next(communities_generator)\n",
    "next_level_communities = next(communities_generator)\n",
    "print(\"top level communities:\", sorted(map(sorted, top_level_communities)))\n",
    "print(\"next level communities:\", sorted(map(sorted, next_level_communities)))"
   ]
  },
  {
   "cell_type": "code",
   "execution_count": 29,
   "id": "cc2d1b9e",
   "metadata": {},
   "outputs": [
    {
     "data": {
      "text/plain": [
       "[frozenset({'bewilder.v.02',\n",
       "            'cast.v.02',\n",
       "            'cast.v.07',\n",
       "            'chuck.v.01',\n",
       "            'chuck.v.02',\n",
       "            'confuse.v.02',\n",
       "            'convulse.v.03',\n",
       "            'crash.v.10',\n",
       "            'discard.v.01',\n",
       "            'discontinue.v.01',\n",
       "            'dismiss.v.01',\n",
       "            'dump.v.01',\n",
       "            'eject.v.01',\n",
       "            'exhaust.v.05',\n",
       "            'expel.v.01',\n",
       "            'fling.v.01',\n",
       "            'fling.v.02',\n",
       "            'flip.v.01',\n",
       "            'flip.v.05',\n",
       "            'flip.v.06',\n",
       "            'give.v.07',\n",
       "            'heave.v.02',\n",
       "            'hold.v.03',\n",
       "            'hurl.v.01',\n",
       "            'hurl.v.03',\n",
       "            'launch.v.02',\n",
       "            'loft.v.02',\n",
       "            'lunge.v.01',\n",
       "            'project.v.10',\n",
       "            'project.v.11',\n",
       "            'propel.v.01',\n",
       "            'roll.v.12',\n",
       "            'shed.v.01',\n",
       "            'shoot.v.08',\n",
       "            'slam.v.04',\n",
       "            'sling.v.01',\n",
       "            'throw.v.01',\n",
       "            'throw.v.02',\n",
       "            'throw.v.04',\n",
       "            'throw.v.06',\n",
       "            'throw.v.13',\n",
       "            'throw.v.14',\n",
       "            'thrust.v.01',\n",
       "            'toss.v.06',\n",
       "            'trash.v.01'})]"
      ]
     },
     "execution_count": 29,
     "metadata": {},
     "output_type": "execute_result"
    }
   ],
   "source": [
    "communities_generator_2 = community.greedy_modularity_communities(THROW1)\n",
    "communities_generator_2"
   ]
  },
  {
   "cell_type": "markdown",
   "id": "1dded8ba",
   "metadata": {},
   "source": [
    "Оба графа плохо разбиваются на кластеры, значит семантическое поле примерно однородное. Второй граф имеет меньшую плотность и является более содержательным, так как убраны ребра, которые отображаютт слабую связь. От графа из CLICS этот отличается большим разнообразием вершин (из-за большего количества частей речи и переносных значений). Из общего, вершины в графе CLICS присутствуют в получившемся графе."
   ]
  }
 ],
 "metadata": {
  "kernelspec": {
   "display_name": "Python 3",
   "language": "python",
   "name": "python3"
  },
  "language_info": {
   "codemirror_mode": {
    "name": "ipython",
    "version": 3
   },
   "file_extension": ".py",
   "mimetype": "text/x-python",
   "name": "python",
   "nbconvert_exporter": "python",
   "pygments_lexer": "ipython3",
   "version": "3.8.8"
  }
 },
 "nbformat": 4,
 "nbformat_minor": 5
}
